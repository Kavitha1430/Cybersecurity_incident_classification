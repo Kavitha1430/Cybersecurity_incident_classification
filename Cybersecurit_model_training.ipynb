{
  "nbformat": 4,
  "nbformat_minor": 0,
  "metadata": {
    "colab": {
      "provenance": [],
      "gpuType": "T4"
    },
    "kernelspec": {
      "name": "python3",
      "display_name": "Python 3"
    },
    "language_info": {
      "name": "python"
    },
    "accelerator": "GPU"
  },
  "cells": [
    {
      "cell_type": "markdown",
      "source": [
        "Trying with logistic regression"
      ],
      "metadata": {
        "id": "3HHJEuxj78_5"
      }
    },
    {
      "cell_type": "code",
      "execution_count": 1,
      "metadata": {
        "colab": {
          "base_uri": "https://localhost:8080/"
        },
        "id": "N9a6YZRU530-",
        "outputId": "45182a91-6855-42e6-96f2-73d1a5e4f5bb"
      },
      "outputs": [
        {
          "output_type": "stream",
          "name": "stdout",
          "text": [
            "Classification Report:\n",
            "              precision    recall  f1-score   support\n",
            "\n",
            "           0       0.63      0.66      0.65     11720\n",
            "           1       0.81      0.57      0.67     13464\n",
            "           2       0.94      0.97      0.96    126942\n",
            "\n",
            "    accuracy                           0.91    152126\n",
            "   macro avg       0.80      0.73      0.76    152126\n",
            "weighted avg       0.91      0.91      0.91    152126\n",
            "\n",
            "Confusion Matrix:\n",
            "[[  7719   1120   2881]\n",
            " [  1384   7663   4417]\n",
            " [  3080    686 123176]]\n"
          ]
        }
      ],
      "source": [
        "import pandas as pd\n",
        "from sklearn.model_selection import train_test_split, GridSearchCV\n",
        "from sklearn.linear_model import LogisticRegression\n",
        "from sklearn.metrics import classification_report, confusion_matrix\n",
        "from sklearn.preprocessing import StandardScaler\n",
        "\n",
        "# Load the dataset\n",
        "df = pd.read_csv(r\"/content/C__Users_WELCOME_Desktop_1_kavitha_Train_dataset.csv\")\n",
        "\n",
        "# Define features and target variable\n",
        "X = df.drop('IncidentGrade', axis=1)\n",
        "y = df['IncidentGrade']\n",
        "\n",
        "# Split the dataset into training and validation sets\n",
        "X_train, X_val, y_train, y_val = train_test_split(X, y, test_size=0.2, random_state=42, stratify=y)\n",
        "\n",
        "# Initialize logistic regression\n",
        "logreg = LogisticRegression(C = 100, penalty = 'l1', solver='liblinear')\n",
        "\n",
        "logreg = logreg.fit(X_train,y_train)\n",
        "\n",
        "# Evaluate the model on validation data\n",
        "y_pred = logreg.predict(X_val)\n",
        "\n",
        "# Print results\n",
        "print(\"Classification Report:\")\n",
        "print(classification_report(y_val, y_pred))\n",
        "print(\"Confusion Matrix:\")\n",
        "print(confusion_matrix(y_val, y_pred))"
      ]
    },
    {
      "cell_type": "markdown",
      "source": [
        "Trying with decision tree"
      ],
      "metadata": {
        "id": "8sfDx1Kv8D98"
      }
    },
    {
      "cell_type": "code",
      "source": [
        "import pandas as pd\n",
        "from sklearn.model_selection import train_test_split, RandomizedSearchCV\n",
        "from sklearn.tree import DecisionTreeClassifier\n",
        "from sklearn.metrics import classification_report, confusion_matrix\n",
        "from sklearn.preprocessing import StandardScaler\n",
        "from scipy.stats import randint\n",
        "\n",
        "# Load the dataset\n",
        "df = pd.read_csv(r\"/content/C__Users_WELCOME_Desktop_1_kavitha_Train_dataset.csv\")\n",
        "\n",
        "# Define features and target variable\n",
        "X = df.drop('IncidentGrade', axis=1)\n",
        "y = df['IncidentGrade']\n",
        "\n",
        "# Split the dataset into training and validation sets\n",
        "X_train, X_val, y_train, y_val = train_test_split(X, y, test_size=0.2, random_state=42, stratify=y)\n",
        "\n",
        "# Initialize Decision Tree Classifier\n",
        "dtree = DecisionTreeClassifier(criterion='gini', splitter='best', max_depth= 20, min_samples_split=4, min_samples_leaf=1,\n",
        "                               max_features= 'log2', random_state=42)\n",
        "\n",
        "# Evaluate the model on validation data\n",
        "dtree = dtree.fit(X_train,y_train)\n",
        "\n",
        "y_pred = dtree.predict(X_val)\n",
        "print(\"\\nClassification Report:\")\n",
        "print(classification_report(y_val, y_pred))\n",
        "print(\"Confusion Matrix:\")\n",
        "print(confusion_matrix(y_val, y_pred))\n"
      ],
      "metadata": {
        "colab": {
          "base_uri": "https://localhost:8080/"
        },
        "id": "yhGS4Xqy7krL",
        "outputId": "56067a3b-857f-4959-e5ea-3255a6f12b37"
      },
      "execution_count": 2,
      "outputs": [
        {
          "output_type": "stream",
          "name": "stdout",
          "text": [
            "\n",
            "Classification Report:\n",
            "              precision    recall  f1-score   support\n",
            "\n",
            "           0       0.86      0.90      0.88     11720\n",
            "           1       0.92      0.92      0.92     13464\n",
            "           2       0.99      0.99      0.99    126942\n",
            "\n",
            "    accuracy                           0.98    152126\n",
            "   macro avg       0.92      0.94      0.93    152126\n",
            "weighted avg       0.98      0.98      0.98    152126\n",
            "\n",
            "Confusion Matrix:\n",
            "[[ 10596    576    548]\n",
            " [   639  12454    371]\n",
            " [  1142    512 125288]]\n"
          ]
        }
      ]
    },
    {
      "cell_type": "markdown",
      "source": [
        "Trying with Random forest classifier"
      ],
      "metadata": {
        "id": "R8V2GLpl8J42"
      }
    },
    {
      "cell_type": "code",
      "source": [
        "import pandas as pd\n",
        "from sklearn.ensemble import RandomForestClassifier\n",
        "from sklearn.model_selection import RandomizedSearchCV, StratifiedKFold, train_test_split\n",
        "from sklearn.metrics import classification_report, confusion_matrix\n",
        "from scipy.stats import randint\n",
        "\n",
        "# Load dataset\n",
        "df = pd.read_csv(r\"/content/C__Users_WELCOME_Desktop_1_kavitha_Train_dataset.csv\")\n",
        "\n",
        "# Define features and target variable\n",
        "X = df.drop('IncidentGrade', axis=1)\n",
        "y = df['IncidentGrade']\n",
        "\n",
        "# Split the dataset into training and validation sets\n",
        "X_train, X_val, y_train, y_val = train_test_split(X, y, test_size=0.2, random_state=42, stratify=y)\n",
        "\n",
        "# Initialize Random Forest Classifier\n",
        "rf = RandomForestClassifier(n_estimators = 200, min_samples_split = 2, min_samples_leaf = 1, max_features = None, max_depth = 30,\n",
        "                            bootstrap = True, random_state=42)\n",
        "\n",
        "rf = rf.fit(X_train,y_train)\n",
        "# Evaluate the best model on validation data\n",
        "y_pred = rf.predict(X_val)\n",
        "\n",
        "# Print results\n",
        "print(\"\\nClassification Report:\")\n",
        "print(classification_report(y_val, y_pred))\n",
        "print(\"Confusion Matrix:\")\n",
        "print(confusion_matrix(y_val, y_pred))"
      ],
      "metadata": {
        "colab": {
          "base_uri": "https://localhost:8080/"
        },
        "id": "NaAem52n8Jen",
        "outputId": "ca13b2c5-952d-40d1-9120-1cffa8eed242"
      },
      "execution_count": 3,
      "outputs": [
        {
          "output_type": "stream",
          "name": "stdout",
          "text": [
            "\n",
            "Classification Report:\n",
            "              precision    recall  f1-score   support\n",
            "\n",
            "           0       0.98      0.98      0.98     11720\n",
            "           1       0.97      0.98      0.97     13464\n",
            "           2       1.00      1.00      1.00    126942\n",
            "\n",
            "    accuracy                           0.99    152126\n",
            "   macro avg       0.98      0.98      0.98    152126\n",
            "weighted avg       0.99      0.99      0.99    152126\n",
            "\n",
            "Confusion Matrix:\n",
            "[[ 11440    209     71]\n",
            " [   175  13142    147]\n",
            " [    99    167 126676]]\n"
          ]
        }
      ]
    },
    {
      "cell_type": "code",
      "source": [
        "! pip install xgboost"
      ],
      "metadata": {
        "colab": {
          "base_uri": "https://localhost:8080/"
        },
        "id": "l0EnxheP8bvC",
        "outputId": "dfff1371-5bd3-45c5-ac7e-a73d21fed877"
      },
      "execution_count": 4,
      "outputs": [
        {
          "output_type": "stream",
          "name": "stdout",
          "text": [
            "Requirement already satisfied: xgboost in /usr/local/lib/python3.11/dist-packages (2.1.4)\n",
            "Requirement already satisfied: numpy in /usr/local/lib/python3.11/dist-packages (from xgboost) (2.0.2)\n",
            "Requirement already satisfied: nvidia-nccl-cu12 in /usr/local/lib/python3.11/dist-packages (from xgboost) (2.21.5)\n",
            "Requirement already satisfied: scipy in /usr/local/lib/python3.11/dist-packages (from xgboost) (1.15.3)\n"
          ]
        }
      ]
    },
    {
      "cell_type": "code",
      "source": [
        "import pandas as pd\n",
        "import xgboost as xgb\n",
        "from sklearn.model_selection import RandomizedSearchCV, StratifiedKFold, train_test_split\n",
        "from sklearn.metrics import classification_report, confusion_matrix\n",
        "from functools import partial\n",
        "\n",
        "# Load dataset\n",
        "df = pd.read_csv(r\"/content/C__Users_WELCOME_Desktop_1_kavitha_Train_dataset.csv\")\n",
        "\n",
        "# Define features and target variable\n",
        "X = df.drop('IncidentGrade', axis=1)\n",
        "y = df['IncidentGrade']\n",
        "\n",
        "# Split the dataset into training and validation sets with stratification\n",
        "X_train, X_val, y_train, y_val = train_test_split(X, y, test_size=0.2, random_state=42, stratify=y)\n",
        "\n",
        "# Initialize XGBoost Classifier\n",
        "xgb = xgb.XGBClassifier(subsample = 0.8, n_estimators = 200, max_depth = 9, learning_rate = 0.2, colsample_bytree = 1.0,\n",
        "                        random_state=42, use_label_encoder=False, eval_metric='logloss')\n",
        "\n",
        "xgb = xgb.fit(X_train,y_train)\n",
        "# Evaluate the model on validation data\n",
        "y_pred = xgb.predict(X_val)\n",
        "\n",
        "# Print the evaluation results\n",
        "print(\"Classification Report:\")\n",
        "print(classification_report(y_val, y_pred))\n",
        "print(\"Confusion Matrix:\")\n",
        "print(confusion_matrix(y_val, y_pred))"
      ],
      "metadata": {
        "colab": {
          "base_uri": "https://localhost:8080/"
        },
        "id": "turtmBOw9KxI",
        "outputId": "6189f06e-4f87-4e6f-98d7-9b4e40e209d3"
      },
      "execution_count": 5,
      "outputs": [
        {
          "output_type": "stream",
          "name": "stderr",
          "text": [
            "/usr/local/lib/python3.11/dist-packages/xgboost/core.py:158: UserWarning: [12:32:39] WARNING: /workspace/src/learner.cc:740: \n",
            "Parameters: { \"use_label_encoder\" } are not used.\n",
            "\n",
            "  warnings.warn(smsg, UserWarning)\n"
          ]
        },
        {
          "output_type": "stream",
          "name": "stdout",
          "text": [
            "Classification Report:\n",
            "              precision    recall  f1-score   support\n",
            "\n",
            "           0       0.97      0.97      0.97     11720\n",
            "           1       0.97      0.97      0.97     13464\n",
            "           2       1.00      1.00      1.00    126942\n",
            "\n",
            "    accuracy                           0.99    152126\n",
            "   macro avg       0.98      0.98      0.98    152126\n",
            "weighted avg       0.99      0.99      0.99    152126\n",
            "\n",
            "Confusion Matrix:\n",
            "[[ 11410    238     72]\n",
            " [   186  13110    168]\n",
            " [   148    183 126611]]\n"
          ]
        }
      ]
    },
    {
      "cell_type": "markdown",
      "source": [
        "Best model selection"
      ],
      "metadata": {
        "id": "arCRGLYt9S91"
      }
    },
    {
      "cell_type": "code",
      "source": [
        "import pandas as pd\n",
        "\n",
        "report = {\n",
        "    'Model': ['Logistic Regression', 'Decision Tree', 'Random Forest', 'XGBoost'],\n",
        "    'Accuracy':[0.91,0.98,0.99,0.99],\n",
        "    'Macro-F1 Score':[ 0.76, 0.93, 0.98, 0.98],\n",
        "    'Precision': [0.80,0.92,0.98,0.98],\n",
        "    'Recall': [0.73,0.94,0.98 ,0.98]\n",
        "\n",
        "}\n",
        "\n",
        "# Convert to DataFrame\n",
        "df = pd.DataFrame(report)\n",
        "\n",
        "# Print comparison table\n",
        "print(\"Comparison Table:\")\n",
        "print(df.to_string(index=False))\n",
        "\n",
        "# Find the best model based on Macro-F1 Score\n",
        "best_model = df.loc[df['Macro-F1 Score'].idxmax()]\n",
        "\n",
        "# Print the best model\n",
        "print(\"\\nBest Model Based on Macro-F1 Score:\")\n",
        "print(best_model)"
      ],
      "metadata": {
        "colab": {
          "base_uri": "https://localhost:8080/"
        },
        "id": "CFIMWydI9Njg",
        "outputId": "b6f28280-1a14-4cee-f15e-442062c8d65c"
      },
      "execution_count": 6,
      "outputs": [
        {
          "output_type": "stream",
          "name": "stdout",
          "text": [
            "Comparison Table:\n",
            "              Model  Accuracy  Macro-F1 Score  Precision  Recall\n",
            "Logistic Regression      0.91            0.76       0.80    0.73\n",
            "      Decision Tree      0.98            0.93       0.92    0.94\n",
            "      Random Forest      0.99            0.98       0.98    0.98\n",
            "            XGBoost      0.99            0.98       0.98    0.98\n",
            "\n",
            "Best Model Based on Macro-F1 Score:\n",
            "Model             Random Forest\n",
            "Accuracy                   0.99\n",
            "Macro-F1 Score             0.98\n",
            "Precision                  0.98\n",
            "Recall                     0.98\n",
            "Name: 2, dtype: object\n"
          ]
        }
      ]
    },
    {
      "cell_type": "markdown",
      "source": [
        "Feature importance"
      ],
      "metadata": {
        "id": "3HlUHg2b967J"
      }
    },
    {
      "cell_type": "code",
      "source": [
        "import matplotlib.pyplot as plt\n",
        "import pandas as pd\n",
        "from sklearn.metrics import classification_report, confusion_matrix\n",
        "\n",
        "# Get feature importances from the best Random Forest model\n",
        "importances = rf.feature_importances_\n",
        "\n",
        "features = X.columns\n",
        "feature_importance_df = pd.DataFrame({'Feature': features, 'Importance': importances})\n",
        "\n",
        "top_10_features = feature_importance_df.sort_values(by='Importance', ascending=False).head(10)\n",
        "\n",
        "# Plot feature importance for top 10 features\n",
        "plt.figure(figsize=(10, 6))\n",
        "plt.barh(top_10_features['Feature'], top_10_features['Importance'])\n",
        "plt.xlabel('Feature Importance')\n",
        "plt.ylabel('Features')\n",
        "plt.title('Top 10 Important Features for Random Forest')\n",
        "plt.gca().invert_yaxis()  # Invert y-axis to display highest importance at the top\n",
        "plt.show()\n",
        "\n",
        "# Identify misclassified samples\n",
        "misclassified_idx = (y_val != y_pred)\n",
        "\n",
        "# Extract the misclassified samples\n",
        "misclassified_samples = X_val[misclassified_idx].copy()\n",
        "\n",
        "# Display the first 5 misclassified samples\n",
        "print(misclassified_samples.head(5))\n",
        "\n",
        "# Evaluate the model's predictions\n",
        "print(\"Classification Report:\")\n",
        "print(classification_report(y_val, y_pred))\n",
        "print(\"Confusion Matrix:\")\n",
        "print(confusion_matrix(y_val, y_pred))"
      ],
      "metadata": {
        "colab": {
          "base_uri": "https://localhost:8080/",
          "height": 1000
        },
        "id": "spTBdDK499Of",
        "outputId": "4f496910-4a3a-49b7-b36b-4120c9c64adc"
      },
      "execution_count": 7,
      "outputs": [
        {
          "output_type": "display_data",
          "data": {
            "text/plain": [
              "<Figure size 1000x600 with 1 Axes>"
            ],
            "image/png": "[encoded data removed]"
          },
          "metadata": {}
        },
        {
          "output_type": "stream",
          "name": "stdout",
          "text": [
            "          Id  OrgId  IncidentId  AlertId  DetectorId  AlertTitle  Category  \\\n",
            "396217  3878    239       89766  1233895           7    0.013667         5   \n",
            "385613  1109     56      127937   119184           6    0.011390         5   \n",
            "416218   779    350       35994   239468           1    0.002278         5   \n",
            "168089  3167     33       37760   303741           6    0.011390         5   \n",
            "114816   508     77      151611   523501           0    0.000000         5   \n",
            "\n",
            "        EntityType  EvidenceRole  DeviceId  ...  ResourceIdName  OSFamily  \\\n",
            "396217           0             1     98799  ...            3586         5   \n",
            "385613           5             1     98799  ...            3586         5   \n",
            "416218           5             1     98799  ...            3586         5   \n",
            "168089           5             1     98799  ...            3586         5   \n",
            "114816           0             1     98799  ...            3586         5   \n",
            "\n",
            "        OSVersion  CountryCode  State   City  Year     Month  DayOfWeek  \\\n",
            "396217         66          242   1445  10630   1.0  0.454545   0.500000   \n",
            "385613         66          242   1445  10630   1.0  0.454545   0.166667   \n",
            "416218         66          242   1445  10630   1.0  0.454545   0.500000   \n",
            "168089         66          242   1445  10630   1.0  0.454545   0.166667   \n",
            "114816         66          242   1445  10630   1.0  0.454545   0.166667   \n",
            "\n",
            "            Hour  \n",
            "396217  1.000000  \n",
            "385613  0.347826  \n",
            "416218  0.173913  \n",
            "168089  0.782609  \n",
            "114816  0.173913  \n",
            "\n",
            "[5 rows x 37 columns]\n",
            "Classification Report:\n",
            "              precision    recall  f1-score   support\n",
            "\n",
            "           0       0.97      0.97      0.97     11720\n",
            "           1       0.97      0.97      0.97     13464\n",
            "           2       1.00      1.00      1.00    126942\n",
            "\n",
            "    accuracy                           0.99    152126\n",
            "   macro avg       0.98      0.98      0.98    152126\n",
            "weighted avg       0.99      0.99      0.99    152126\n",
            "\n",
            "Confusion Matrix:\n",
            "[[ 11410    238     72]\n",
            " [   186  13110    168]\n",
            " [   148    183 126611]]\n"
          ]
        }
      ]
    },
    {
      "cell_type": "markdown",
      "source": [
        "Saving the best model"
      ],
      "metadata": {
        "id": "0XeHFvb_-JZP"
      }
    },
    {
      "cell_type": "code",
      "source": [
        "import pandas as pd\n",
        "from sklearn.ensemble import RandomForestClassifier\n",
        "from sklearn.model_selection import RandomizedSearchCV, train_test_split\n",
        "from sklearn.metrics import classification_report, confusion_matrix\n",
        "from imblearn.over_sampling import SMOTE\n",
        "from joblib import dump\n",
        "from imblearn.pipeline import Pipeline\n",
        "from scipy.stats import randint\n",
        "\n",
        "# Load dataset\n",
        "df = pd.read_csv(r\"/content/C__Users_WELCOME_Desktop_1_kavitha_Train_dataset.csv\")\n",
        "\n",
        "# Define features and target variable\n",
        "X = df.drop('IncidentGrade', axis=1)\n",
        "y = df['IncidentGrade']\n",
        "\n",
        "# Split the dataset into training and validation sets with stratification\n",
        "X_train, X_val, y_train, y_val = train_test_split(X, y, test_size=0.2, random_state=42, stratify=y)\n",
        "\n",
        "# Apply SMOTE to the training data for class imbalance\n",
        "smote = SMOTE(random_state=42)\n",
        "\n",
        "# Initialize Random Forest Classifier\n",
        "rf = RandomForestClassifier(n_estimators = 200, min_samples_split = 2, min_samples_leaf = 1, max_features = None, max_depth = 30,\n",
        "                            bootstrap = True, random_state=42)\n",
        "\n",
        "# Create the Pipeline\n",
        "pipeline = Pipeline(steps=[\n",
        "    ('smote', smote),\n",
        "    ('classifier', rf)\n",
        "])\n",
        "\n",
        "# Fit the Pipeline\n",
        "pipeline.fit(X_train, y_train)\n",
        "\n",
        "# Evaluate the best model on validation data\n",
        "y_pred = pipeline.predict(X_val)\n",
        "\n",
        "# Print results\n",
        "print(\"Classification Report:\")\n",
        "print(classification_report(y_val, y_pred))\n",
        "print(\"Confusion Matrix:\")\n",
        "print(confusion_matrix(y_val, y_pred))\n",
        "\n",
        "# Save the best model to a pickle file\n",
        "model_path = r\"C:\\Users\\WELCOME\\Desktop\\1_kavitha\\Model.pkl\"\n",
        "dump(pipeline, 'model_pipeline.pkl')\n",
        "\n",
        "print(f\"Model saved to {model_path}\")\n"
      ],
      "metadata": {
        "colab": {
          "base_uri": "https://localhost:8080/"
        },
        "id": "p-mWIt259-6I",
        "outputId": "c60de29d-0fcf-40e3-ca45-ebcccaddbf42"
      },
      "execution_count": 8,
      "outputs": [
        {
          "output_type": "stream",
          "name": "stdout",
          "text": [
            "Classification Report:\n",
            "              precision    recall  f1-score   support\n",
            "\n",
            "           0       0.94      0.97      0.96     11720\n",
            "           1       0.96      0.97      0.97     13464\n",
            "           2       1.00      0.99      1.00    126942\n",
            "\n",
            "    accuracy                           0.99    152126\n",
            "   macro avg       0.97      0.98      0.97    152126\n",
            "weighted avg       0.99      0.99      0.99    152126\n",
            "\n",
            "Confusion Matrix:\n",
            "[[ 11403    271     46]\n",
            " [   262  13091    111]\n",
            " [   454    277 126211]]\n",
            "Model saved to C:\\Users\\WELCOME\\Desktop\\1_kavitha\\Model.pkl\n"
          ]
        }
      ]
    },
    {
      "cell_type": "markdown",
      "source": [
        "Evaluation of selected random forest model on the test data set"
      ],
      "metadata": {
        "id": "Htc7RgtA-U92"
      }
    },
    {
      "cell_type": "code",
      "source": [
        "from google.colab import files\n",
        "files.download('model_pipeline.pkl')\n"
      ],
      "metadata": {
        "colab": {
          "base_uri": "https://localhost:8080/",
          "height": 34
        },
        "id": "xaf45_ylAba4",
        "outputId": "9f53a4c4-8a4d-4a05-8f7a-84ab3958e664"
      },
      "execution_count": 9,
      "outputs": [
        {
          "output_type": "display_data",
          "data": {
            "text/plain": [
              "<IPython.core.display.Javascript object>"
            ],
            "application/javascript": [
              "\n",
              "    async function download(id, filename, size) {\n",
              "      if (!google.colab.kernel.accessAllowed) {\n",
              "        return;\n",
              "      }\n",
              "      const div = document.createElement('div');\n",
              "      const label = document.createElement('label');\n",
              "      label.textContent = `Downloading \"${filename}\": `;\n",
              "      div.appendChild(label);\n",
              "      const progress = document.createElement('progress');\n",
              "      progress.max = size;\n",
              "      div.appendChild(progress);\n",
              "      document.body.appendChild(div);\n",
              "\n",
              "      const buffers = [];\n",
              "      let downloaded = 0;\n",
              "\n",
              "      const channel = await google.colab.kernel.comms.open(id);\n",
              "      // Send a message to notify the kernel that we're ready.\n",
              "      channel.send({})\n",
              "\n",
              "      for await (const message of channel.messages) {\n",
              "        // Send a message to notify the kernel that we're ready.\n",
              "        channel.send({})\n",
              "        if (message.buffers) {\n",
              "          for (const buffer of message.buffers) {\n",
              "            buffers.push(buffer);\n",
              "            downloaded += buffer.byteLength;\n",
              "            progress.value = downloaded;\n",
              "          }\n",
              "        }\n",
              "      }\n",
              "      const blob = new Blob(buffers, {type: 'application/binary'});\n",
              "      const a = document.createElement('a');\n",
              "      a.href = window.URL.createObjectURL(blob);\n",
              "      a.download = filename;\n",
              "      div.appendChild(a);\n",
              "      a.click();\n",
              "      div.remove();\n",
              "    }\n",
              "  "
            ]
          },
          "metadata": {}
        },
        {
          "output_type": "display_data",
          "data": {
            "text/plain": [
              "<IPython.core.display.Javascript object>"
            ],
            "application/javascript": [
              "download(\"download_4be3a074-9a4e-400b-826b-6ad1c72da4ad\", \"model_pipeline.pkl\", 794407990)"
            ]
          },
          "metadata": {}
        }
      ]
    },
    {
      "cell_type": "code",
      "source": [
        "import pandas as pd\n",
        "from joblib import load\n",
        "from sklearn.metrics import classification_report, confusion_matrix, f1_score, precision_score, recall_score\n",
        "\n",
        "# Load the saved Random Forest model\n",
        "model_path = r\"/content/model_pipeline.pkl\"\n",
        "best_rf = load(model_path)\n",
        "\n",
        "# Load the test dataset\n",
        "test_data_path = r\"/content/C__Users_WELCOME_Desktop_1_kavitha_Test_dataset.csv\"\n",
        "test_df = pd.read_csv(test_data_path)\n",
        "\n",
        "# Separate features and target from test data\n",
        "X_test = test_df.drop('IncidentGrade', axis=1)\n",
        "y_test = test_df['IncidentGrade']\n",
        "\n",
        "# Make predictions on the test set\n",
        "y_test_pred = best_rf.predict(X_test)\n",
        "\n",
        "# Evaluate the model on the test set\n",
        "print(\"\\nClassification Report on Test Data:\")\n",
        "report = classification_report(y_test, y_test_pred, output_dict=True)\n",
        "print(classification_report(y_test, y_test_pred))\n",
        "\n",
        "# Extract macro-F1 score, precision, and recall from the report\n",
        "macro_f1 = report['macro avg']['f1-score']\n",
        "macro_precision = report['macro avg']['precision']\n",
        "macro_recall = report['macro avg']['recall']\n",
        "\n",
        "print(\"\\nMacro-F1 Score: {:.2f}\".format(macro_f1))\n",
        "print(\"Macro Precision: {:.2f}\".format(macro_precision))\n",
        "print(\"Macro Recall: {:.2f}\".format(macro_recall))\n",
        "\n",
        "# Confusion Matrix\n",
        "print(\"\\nConfusion Matrix on Test Data:\")\n",
        "print(confusion_matrix(y_test, y_test_pred))\n"
      ],
      "metadata": {
        "colab": {
          "base_uri": "https://localhost:8080/"
        },
        "id": "7tC4Qqfh-NHv",
        "outputId": "ac8e8a0a-fc63-4096-b486-1434e788d029"
      },
      "execution_count": 11,
      "outputs": [
        {
          "output_type": "stream",
          "name": "stdout",
          "text": [
            "\n",
            "Classification Report on Test Data:\n",
            "              precision    recall  f1-score   support\n",
            "\n",
            "           0       0.68      0.90      0.77     24124\n",
            "           1       0.56      0.78      0.65     21252\n",
            "           2       0.99      0.94      0.97    303765\n",
            "\n",
            "    accuracy                           0.93    349141\n",
            "   macro avg       0.74      0.88      0.80    349141\n",
            "weighted avg       0.95      0.93      0.93    349141\n",
            "\n",
            "\n",
            "Macro-F1 Score: 0.80\n",
            "Macro Precision: 0.74\n",
            "Macro Recall: 0.88\n",
            "\n",
            "Confusion Matrix on Test Data:\n",
            "[[ 21780   1733    611]\n",
            " [  3800  16626    826]\n",
            " [  6658  11193 285914]]\n"
          ]
        }
      ]
    }
  ]
}